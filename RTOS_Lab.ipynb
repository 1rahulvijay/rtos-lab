{
 "cells": [
  {
   "cell_type": "code",
   "execution_count": 42,
   "metadata": {},
   "outputs": [],
   "source": [
    "import os\n",
    "import time"
   ]
  },
  {
   "cell_type": "code",
   "execution_count": 43,
   "metadata": {},
   "outputs": [
    {
     "name": "stdout",
     "output_type": "stream",
     "text": [
      "Hi How are you Rahul ?, Good to see You \n",
      "See You Around {str}\n"
     ]
    }
   ],
   "source": [
    "def print_any():\n",
    "    str = input()\n",
    "    print(f\"Hi How are you {str} ?, Good to see You \")\n",
    "    time.sleep(2.4)\n",
    "    print(\"See You Around {str}\")\n",
    " \n",
    "\n",
    "\n",
    "print_any()"
   ]
  },
  {
   "cell_type": "code",
   "execution_count": 44,
   "metadata": {},
   "outputs": [
    {
     "data": {
      "text/plain": [
       "{'python_version': '3.9.5.final.0 (64 bit)',\n",
       " 'cpuinfo_version': [8, 0, 0],\n",
       " 'cpuinfo_version_string': '8.0.0',\n",
       " 'arch': 'X86_64',\n",
       " 'bits': 64,\n",
       " 'count': 4,\n",
       " 'arch_string_raw': 'AMD64',\n",
       " 'vendor_id_raw': 'GenuineIntel',\n",
       " 'brand_raw': 'Intel(R) Core(TM) i5-7300HQ CPU @ 2.50GHz',\n",
       " 'hz_advertised_friendly': '2.5000 GHz',\n",
       " 'hz_actual_friendly': '2.4960 GHz',\n",
       " 'hz_advertised': [2500000000, 0],\n",
       " 'hz_actual': [2496000000, 0],\n",
       " 'l2_cache_size': 1048576,\n",
       " 'stepping': 9,\n",
       " 'model': 158,\n",
       " 'family': 6,\n",
       " 'l3_cache_size': 6291456,\n",
       " 'flags': ['3dnow',\n",
       "  '3dnowprefetch',\n",
       "  'abm',\n",
       "  'acpi',\n",
       "  'adx',\n",
       "  'aes',\n",
       "  'apic',\n",
       "  'avx',\n",
       "  'avx2',\n",
       "  'bmi1',\n",
       "  'bmi2',\n",
       "  'clflush',\n",
       "  'clflushopt',\n",
       "  'cmov',\n",
       "  'cx16',\n",
       "  'cx8',\n",
       "  'de',\n",
       "  'ds_cpl',\n",
       "  'dtes64',\n",
       "  'dts',\n",
       "  'erms',\n",
       "  'est',\n",
       "  'f16c',\n",
       "  'fma',\n",
       "  'fpu',\n",
       "  'fxsr',\n",
       "  'ht',\n",
       "  'ia64',\n",
       "  'intel_pt',\n",
       "  'invpcid',\n",
       "  'lahf_lm',\n",
       "  'mca',\n",
       "  'mce',\n",
       "  'mmx',\n",
       "  'monitor',\n",
       "  'movbe',\n",
       "  'mpx',\n",
       "  'msr',\n",
       "  'mtrr',\n",
       "  'osxsave',\n",
       "  'pae',\n",
       "  'pat',\n",
       "  'pbe',\n",
       "  'pcid',\n",
       "  'pclmulqdq',\n",
       "  'pdcm',\n",
       "  'pge',\n",
       "  'pni',\n",
       "  'popcnt',\n",
       "  'pse',\n",
       "  'pse36',\n",
       "  'rdrnd',\n",
       "  'rdseed',\n",
       "  'sep',\n",
       "  'serial',\n",
       "  'sgx',\n",
       "  'smap',\n",
       "  'smep',\n",
       "  'ss',\n",
       "  'sse',\n",
       "  'sse2',\n",
       "  'sse4_1',\n",
       "  'sse4_2',\n",
       "  'ssse3',\n",
       "  'tm',\n",
       "  'tm2',\n",
       "  'tsc',\n",
       "  'tscdeadline',\n",
       "  'vme',\n",
       "  'vmx',\n",
       "  'x2apic',\n",
       "  'xsave',\n",
       "  'xtpr'],\n",
       " 'l2_cache_line_size': 256,\n",
       " 'l2_cache_associativity': 6}"
      ]
     },
     "execution_count": 44,
     "metadata": {},
     "output_type": "execute_result"
    }
   ],
   "source": [
    "import cpuinfo\n",
    "\n",
    "\n",
    "cpuinfo.get_cpu_info()"
   ]
  },
  {
   "cell_type": "code",
   "execution_count": 45,
   "metadata": {},
   "outputs": [
    {
     "data": {
      "text/plain": [
       "sbattery(percent=100, secsleft=<BatteryTime.POWER_TIME_UNLIMITED: -2>, power_plugged=True)"
      ]
     },
     "execution_count": 45,
     "metadata": {},
     "output_type": "execute_result"
    }
   ],
   "source": [
    "import psutil\n",
    "\n",
    "psutil.sensors_battery()"
   ]
  },
  {
   "cell_type": "code",
   "execution_count": 46,
   "metadata": {},
   "outputs": [
    {
     "name": "stdout",
     "output_type": "stream",
     "text": [
      "Cpu percentages Uses: 12.6\n"
     ]
    }
   ],
   "source": [
    "print(f\"Cpu percentages Uses: {psutil.cpu_percent()}\")"
   ]
  },
  {
   "cell_type": "code",
   "execution_count": 47,
   "metadata": {},
   "outputs": [
    {
     "name": "stdout",
     "output_type": "stream",
     "text": [
      "svmem(total=8463159296, available=2165542912, percent=74.4, used=6297616384, free=2165542912)\n"
     ]
    },
    {
     "data": {
      "text/plain": [
       "{'total': 8463159296,\n",
       " 'available': 2165542912,\n",
       " 'percent': 74.4,\n",
       " 'used': 6297616384,\n",
       " 'free': 2165542912}"
      ]
     },
     "execution_count": 47,
     "metadata": {},
     "output_type": "execute_result"
    }
   ],
   "source": [
    "print(psutil.virtual_memory())\n",
    "dict(psutil.virtual_memory()._asdict())"
   ]
  },
  {
   "cell_type": "code",
   "execution_count": 48,
   "metadata": {},
   "outputs": [
    {
     "name": "stdout",
     "output_type": "stream",
     "text": [
      "uname: uname_result(system='Windows', node='DESKTOP-BT960M3', release='10', version='10.0.19044', machine='AMD64')\n",
      "system   : Windows\n",
      "node     : DESKTOP-BT960M3\n",
      "release  : 10\n",
      "version  : 10.0.19044\n",
      "machine  : AMD64\n",
      "processor: Intel64 Family 6 Model 158 Stepping 9, GenuineIntel\n"
     ]
    }
   ],
   "source": [
    "import platform\n",
    "\n",
    "print('uname:', platform.uname())\n",
    "\n",
    "print( 'system   :', platform.system())\n",
    "print('node     :', platform.node())\n",
    "print('release  :', platform.release())\n",
    "print('version  :', platform.version())\n",
    "print('machine  :', platform.machine())\n",
    "print('processor:', platform.processor())"
   ]
  },
  {
   "cell_type": "code",
   "execution_count": 49,
   "metadata": {},
   "outputs": [
    {
     "name": "stdout",
     "output_type": "stream",
     "text": [
      "-------------------- CPU Info --------------------\n",
      "Physical Cores:  4\n",
      "Total Cores:  4\n",
      "Max Frequency:  2496.00Mhz\n",
      "Min Frequency:  0.00Mhz\n",
      "Current Frequency:  2496.00Mhz\n",
      "-------------------- CPU Usage per Core --------------------\n",
      "Core0: 15.3%\n",
      "Core1: 13.1%\n",
      "Core2: 10.6%\n",
      "Core3: 11.8%\n",
      "Total CPU Usages: 78.5%\n"
     ]
    }
   ],
   "source": [
    "print(\"-\"*20,\"CPU Info\", \"-\"*20)\n",
    "\n",
    "# Number of Cores\n",
    "print(\"Physical Cores: \", psutil.cpu_count(logical=False))\n",
    "print(\"Total Cores: \", psutil.cpu_count(logical=True))\n",
    "\n",
    "\n",
    "# CPU Frequencies\n",
    "cpufreq = psutil.cpu_freq()\n",
    "print(f\"Max Frequency: {cpufreq.max: .2f}Mhz\")\n",
    "print(f\"Min Frequency: {cpufreq.min: .2f}Mhz\")\n",
    "print(f\"Current Frequency: {cpufreq.current: .2f}Mhz\")\n",
    "\n",
    "# CPU Usage\n",
    "print(\"-\"*20,\"CPU Usage per Core\", \"-\"*20)\n",
    "for i, percentage in enumerate(psutil.cpu_percent(percpu=True)):\n",
    "    print(f\"Core{i}: {percentage}%\")\n",
    "print(f\"Total CPU Usages: {psutil.cpu_percent()}%\")\n"
   ]
  },
  {
   "cell_type": "code",
   "execution_count": 50,
   "metadata": {},
   "outputs": [
    {
     "name": "stdout",
     "output_type": "stream",
     "text": [
      "GPU Temp is: 46.0\n"
     ]
    }
   ],
   "source": [
    "import GPUtil\n",
    "\n",
    "gpu = GPUtil.getGPUs()[0]\n",
    "print(f\"GPU Temp is: {gpu.temperature}\")"
   ]
  },
  {
   "cell_type": "code",
   "execution_count": 51,
   "metadata": {},
   "outputs": [
    {
     "name": "stdout",
     "output_type": "stream",
     "text": [
      "56.05000000000001 'C\n"
     ]
    }
   ],
   "source": [
    "import wmi\n",
    "\n",
    "w = wmi.WMI(namespace=\"root\\wmi\")\n",
    "temperature_info = w.MSAcpi_ThermalZoneTemperature()[0]\n",
    "print((temperature_info.CurrentTemperature / 10) - 273.15,\"'C\")"
   ]
  },
  {
   "cell_type": "code",
   "execution_count": null,
   "metadata": {},
   "outputs": [],
   "source": []
  },
  {
   "cell_type": "code",
   "execution_count": null,
   "metadata": {},
   "outputs": [],
   "source": []
  }
 ],
 "metadata": {
  "interpreter": {
   "hash": "ea8470244b22aed8a970f1364fc190a5996ed84eb1958aeaa830af6be88a0768"
  },
  "kernelspec": {
   "display_name": "Python 3.9.5 64-bit",
   "language": "python",
   "name": "python3"
  },
  "language_info": {
   "codemirror_mode": {
    "name": "ipython",
    "version": 3
   },
   "file_extension": ".py",
   "mimetype": "text/x-python",
   "name": "python",
   "nbconvert_exporter": "python",
   "pygments_lexer": "ipython3",
   "version": "3.9.5"
  },
  "orig_nbformat": 4
 },
 "nbformat": 4,
 "nbformat_minor": 2
}
